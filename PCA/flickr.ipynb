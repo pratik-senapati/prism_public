{
 "cells": [
  {
   "cell_type": "code",
   "execution_count": 2,
   "metadata": {},
   "outputs": [],
   "source": [
    "import os\n",
    "import torch\n",
    "from PIL import Image\n",
    "from transformers import CLIPProcessor, CLIPModel\n",
    "from sklearn.decomposition import PCA\n",
    "import joblib\n",
    "import numpy as np\n"
   ]
  },
  {
   "cell_type": "code",
   "execution_count": 4,
   "metadata": {},
   "outputs": [
    {
     "ename": "FileNotFoundError",
     "evalue": "[Errno 2] No such file or directory: 'C:\\\\Users\\\\Pratik Senapati\\\\Downloads\\\\Flickr8k_Dataset\\\\Flicker8k_Dataset\\\\2258277193_586949ec62.jpg.1'",
     "output_type": "error",
     "traceback": [
      "\u001b[1;31m---------------------------------------------------------------------------\u001b[0m",
      "\u001b[1;31mFileNotFoundError\u001b[0m                         Traceback (most recent call last)",
      "Cell \u001b[1;32mIn[4], line 26\u001b[0m\n\u001b[0;32m     24\u001b[0m \u001b[38;5;28;01mfor\u001b[39;00m image_id, caption_list \u001b[38;5;129;01min\u001b[39;00m captions\u001b[38;5;241m.\u001b[39mitems():\n\u001b[0;32m     25\u001b[0m     image_path \u001b[38;5;241m=\u001b[39m os\u001b[38;5;241m.\u001b[39mpath\u001b[38;5;241m.\u001b[39mjoin(images_path, image_id)\n\u001b[1;32m---> 26\u001b[0m     image \u001b[38;5;241m=\u001b[39m \u001b[43mImage\u001b[49m\u001b[38;5;241;43m.\u001b[39;49m\u001b[43mopen\u001b[49m\u001b[43m(\u001b[49m\u001b[43mimage_path\u001b[49m\u001b[43m)\u001b[49m\u001b[38;5;241m.\u001b[39mconvert(\u001b[38;5;124m\"\u001b[39m\u001b[38;5;124mRGB\u001b[39m\u001b[38;5;124m\"\u001b[39m)\n\u001b[0;32m     28\u001b[0m     \u001b[38;5;66;03m# Resize and normalize the image\u001b[39;00m\n\u001b[0;32m     29\u001b[0m     image \u001b[38;5;241m=\u001b[39m image\u001b[38;5;241m.\u001b[39mresize((\u001b[38;5;241m224\u001b[39m, \u001b[38;5;241m224\u001b[39m))\n",
      "File \u001b[1;32mc:\\Users\\Pratik Senapati\\Desktop\\Code\\PRISM\\prism_public\\myenv\\Lib\\site-packages\\PIL\\Image.py:3431\u001b[0m, in \u001b[0;36mopen\u001b[1;34m(fp, mode, formats)\u001b[0m\n\u001b[0;32m   3428\u001b[0m     filename \u001b[38;5;241m=\u001b[39m os\u001b[38;5;241m.\u001b[39mpath\u001b[38;5;241m.\u001b[39mrealpath(os\u001b[38;5;241m.\u001b[39mfspath(fp))\n\u001b[0;32m   3430\u001b[0m \u001b[38;5;28;01mif\u001b[39;00m filename:\n\u001b[1;32m-> 3431\u001b[0m     fp \u001b[38;5;241m=\u001b[39m \u001b[43mbuiltins\u001b[49m\u001b[38;5;241;43m.\u001b[39;49m\u001b[43mopen\u001b[49m\u001b[43m(\u001b[49m\u001b[43mfilename\u001b[49m\u001b[43m,\u001b[49m\u001b[43m \u001b[49m\u001b[38;5;124;43m\"\u001b[39;49m\u001b[38;5;124;43mrb\u001b[39;49m\u001b[38;5;124;43m\"\u001b[39;49m\u001b[43m)\u001b[49m\n\u001b[0;32m   3432\u001b[0m     exclusive_fp \u001b[38;5;241m=\u001b[39m \u001b[38;5;28;01mTrue\u001b[39;00m\n\u001b[0;32m   3433\u001b[0m \u001b[38;5;28;01melse\u001b[39;00m:\n",
      "\u001b[1;31mFileNotFoundError\u001b[0m: [Errno 2] No such file or directory: 'C:\\\\Users\\\\Pratik Senapati\\\\Downloads\\\\Flickr8k_Dataset\\\\Flicker8k_Dataset\\\\2258277193_586949ec62.jpg.1'"
     ]
    }
   ],
   "source": [
    "# Load the CLIP model and processor\n",
    "clip_model = CLIPModel.from_pretrained(\"openai/clip-vit-base-patch32\")\n",
    "clip_processor = CLIPProcessor.from_pretrained(\"openai/clip-vit-base-patch32\")\n",
    "\n",
    "# Define the path to the Flickr8k dataset\n",
    "images_path = \"C:/Users/Pratik Senapati/Downloads/Flickr8k_Dataset/Flicker8k_Dataset\"\n",
    "captions_path = \"C:/Users/Pratik Senapati/Downloads/Flickr8k_text/Flickr8k.token.txt\"\n",
    "\n",
    "# Load the captions\n",
    "captions = {}\n",
    "with open(captions_path, 'r') as f:\n",
    "    for line in f:\n",
    "        tokens = line.strip().split('\\t')\n",
    "        image_id, caption = tokens[0], tokens[1]\n",
    "        image_id = image_id.split('#')[0]\n",
    "        if image_id not in captions:\n",
    "            captions[image_id] = []\n",
    "        captions[image_id].append(caption)\n",
    "\n",
    "# Extract features\n",
    "image_features_list = []\n",
    "text_features_list = []\n",
    "\n",
    "for image_id, caption_list in captions.items():\n",
    "    image_path = os.path.join(images_path, image_id)\n",
    "    image = Image.open(image_path).convert(\"RGB\")\n",
    "    \n",
    "    # Resize and normalize the image\n",
    "    image = image.resize((224, 224))\n",
    "    image_np = np.array(image).astype(np.float32) / 255.0\n",
    "    \n",
    "    # Ensure the image is a 3D array (height, width, channels)\n",
    "    if image_np.ndim == 2:\n",
    "        image_np = np.stack([image_np] * 3, axis=-1)\n",
    "    elif image_np.shape[2] == 4:\n",
    "        image_np = image_np[..., :3]\n",
    "    \n",
    "    # Convert numpy array back to PIL Image\n",
    "    image = Image.fromarray((image_np * 255).astype(np.uint8))\n",
    "    \n",
    "    for caption in caption_list:\n",
    "        inputs = clip_processor(text=[caption], images=image, return_tensors=\"pt\", padding=True)\n",
    "        \n",
    "        with torch.no_grad():\n",
    "            outputs = clip_model(**inputs)\n",
    "            image_features = outputs.image_embeds\n",
    "            text_features = outputs.text_embeds\n",
    "        \n",
    "        # Normalize features\n",
    "        image_features = torch.nn.functional.normalize(image_features, p=2, dim=1)\n",
    "        text_features = torch.nn.functional.normalize(text_features, p=2, dim=1)\n",
    "        \n",
    "        image_features_list.append(image_features.cpu().numpy())\n",
    "        text_features_list.append(text_features.cpu().numpy())\n",
    "\n",
    "# Convert lists to numpy arrays\n",
    "image_features_array = np.vstack(image_features_list)\n",
    "text_features_array = np.vstack(text_features_list)\n",
    "\n",
    "# Combine features\n",
    "combined_features = np.hstack((image_features_array, text_features_array))\n",
    "\n",
    "# Apply PCA\n",
    "pca = PCA(n_components=100)  # Adjust the number of components as needed\n",
    "reduced_features = pca.fit_transform(combined_features)\n",
    "\n",
    "# Save the PCA model\n",
    "joblib.dump(pca, \"pca_model_flickr8k.pkl\")\n",
    "\n",
    "print(\"PCA model saved successfully.\")"
   ]
  },
  {
   "cell_type": "code",
   "execution_count": null,
   "metadata": {},
   "outputs": [],
   "source": []
  }
 ],
 "metadata": {
  "kernelspec": {
   "display_name": "myenv",
   "language": "python",
   "name": "python3"
  },
  "language_info": {
   "codemirror_mode": {
    "name": "ipython",
    "version": 3
   },
   "file_extension": ".py",
   "mimetype": "text/x-python",
   "name": "python",
   "nbconvert_exporter": "python",
   "pygments_lexer": "ipython3",
   "version": "3.12.0"
  }
 },
 "nbformat": 4,
 "nbformat_minor": 2
}
